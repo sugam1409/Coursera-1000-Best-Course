{
 "cells": [
  {
   "cell_type": "markdown",
   "id": "480cf8a9",
   "metadata": {},
   "source": [
    "# Importing required libraries"
   ]
  },
  {
   "cell_type": "code",
   "execution_count": 43,
   "id": "66d59f47",
   "metadata": {},
   "outputs": [],
   "source": [
    "import pandas as pd\n",
    "import requests\n",
    "from bs4 import BeautifulSoup \n",
    "import numpy as np"
   ]
  },
  {
   "cell_type": "markdown",
   "id": "7fff7f9a",
   "metadata": {},
   "source": [
    "# Sample on first page of Website"
   ]
  },
  {
   "cell_type": "code",
   "execution_count": 44,
   "id": "c1ddac48",
   "metadata": {},
   "outputs": [],
   "source": [
    "import requests\n",
    "\n",
    "headers = {\n",
    "    'User-Agent': 'Mozilla/5.0 (Windows NT 6.3; Win64; x64) AppleWebKit/537.36 (KHTML, like Gecko) Chrome/80.0.3987.162 Safari/537.36'\n",
    "}\n",
    "\n",
    "url = 'https://www.coursera.org/courses?page=1&sortBy=BEST_MATCH'  # Replace this with the actual URL\n",
    "\n",
    "response = requests.get(url, headers=headers).text\n",
    "\n",
    "# Print the response text\n",
    "\n",
    "# print(response)\n"
   ]
  },
  {
   "cell_type": "code",
   "execution_count": 4,
   "id": "84774447",
   "metadata": {},
   "outputs": [],
   "source": [
    "soup=BeautifulSoup(response,'lxml')\n"
   ]
  },
  {
   "cell_type": "code",
   "execution_count": 41,
   "id": "ef3ad39e",
   "metadata": {},
   "outputs": [],
   "source": [
    "print(soup.prettify)    "
   ]
  },
  {
   "cell_type": "markdown",
   "id": "24f15582",
   "metadata": {},
   "source": [
    "# Courses"
   ]
  },
  {
   "cell_type": "code",
   "execution_count": 6,
   "id": "8b9d8573",
   "metadata": {},
   "outputs": [],
   "source": [
    "course=soup.find_all(class_=\"cds-CommonCard-title css-6ecy9b\")"
   ]
  },
  {
   "cell_type": "code",
   "execution_count": 7,
   "id": "9cd52400",
   "metadata": {},
   "outputs": [
    {
     "data": {
      "text/plain": [
       "12"
      ]
     },
     "execution_count": 7,
     "metadata": {},
     "output_type": "execute_result"
    }
   ],
   "source": [
    "len(course)"
   ]
  },
  {
   "cell_type": "code",
   "execution_count": 8,
   "id": "e4439cc1",
   "metadata": {},
   "outputs": [
    {
     "data": {
      "text/plain": [
       "[<h3 class=\"cds-CommonCard-title css-6ecy9b\">Google Data Analytics</h3>,\n",
       " <h3 class=\"cds-CommonCard-title css-6ecy9b\">Google Cybersecurity</h3>,\n",
       " <h3 class=\"cds-CommonCard-title css-6ecy9b\">Google Project Management:</h3>,\n",
       " <h3 class=\"cds-CommonCard-title css-6ecy9b\">Google Digital Marketing &amp; E-commerce</h3>,\n",
       " <h3 class=\"cds-CommonCard-title css-6ecy9b\">Google IT Support</h3>,\n",
       " <h3 class=\"cds-CommonCard-title css-6ecy9b\">Google UX Design</h3>,\n",
       " <h3 class=\"cds-CommonCard-title css-6ecy9b\">Machine Learning</h3>,\n",
       " <h3 class=\"cds-CommonCard-title css-6ecy9b\">Google AI Essentials</h3>,\n",
       " <h3 class=\"cds-CommonCard-title css-6ecy9b\">IBM Data Science</h3>,\n",
       " <h3 class=\"cds-CommonCard-title css-6ecy9b\">IBM Data Analyst</h3>,\n",
       " <h3 class=\"cds-CommonCard-title css-6ecy9b\">Deep Learning</h3>,\n",
       " <h3 class=\"cds-CommonCard-title css-6ecy9b\">Introduction to Data Science</h3>]"
      ]
     },
     "execution_count": 8,
     "metadata": {},
     "output_type": "execute_result"
    }
   ],
   "source": [
    "course"
   ]
  },
  {
   "cell_type": "code",
   "execution_count": 9,
   "id": "12318059",
   "metadata": {},
   "outputs": [
    {
     "data": {
      "text/plain": [
       "<h3 class=\"cds-CommonCard-title css-6ecy9b\">Google Data Analytics</h3>"
      ]
     },
     "execution_count": 9,
     "metadata": {},
     "output_type": "execute_result"
    }
   ],
   "source": [
    "course[0]"
   ]
  },
  {
   "cell_type": "code",
   "execution_count": 10,
   "id": "6e9766c6",
   "metadata": {},
   "outputs": [
    {
     "data": {
      "text/plain": [
       "'Google Data Analytics'"
      ]
     },
     "execution_count": 10,
     "metadata": {},
     "output_type": "execute_result"
    }
   ],
   "source": [
    "course[0].text"
   ]
  },
  {
   "cell_type": "markdown",
   "id": "5dfc7f05",
   "metadata": {},
   "source": [
    "# rating"
   ]
  },
  {
   "cell_type": "code",
   "execution_count": 11,
   "id": "003f29a2",
   "metadata": {},
   "outputs": [],
   "source": [
    "ratings=soup.find_all(class_=\"css-2xargn\")"
   ]
  },
  {
   "cell_type": "code",
   "execution_count": 12,
   "id": "c5eee7d9",
   "metadata": {},
   "outputs": [
    {
     "data": {
      "text/plain": [
       "12"
      ]
     },
     "execution_count": 12,
     "metadata": {},
     "output_type": "execute_result"
    }
   ],
   "source": [
    "len(ratings)"
   ]
  },
  {
   "cell_type": "code",
   "execution_count": 13,
   "id": "5b963d7a",
   "metadata": {},
   "outputs": [
    {
     "data": {
      "text/plain": [
       "'4.8'"
      ]
     },
     "execution_count": 13,
     "metadata": {},
     "output_type": "execute_result"
    }
   ],
   "source": [
    "ratings[0].text"
   ]
  },
  {
   "cell_type": "markdown",
   "id": "1d69d332",
   "metadata": {},
   "source": [
    "# details"
   ]
  },
  {
   "cell_type": "code",
   "execution_count": 14,
   "id": "a4909df7",
   "metadata": {},
   "outputs": [],
   "source": [
    "details=soup.find_all('div',class_=\"cds-CommonCard-metadata\")"
   ]
  },
  {
   "cell_type": "code",
   "execution_count": 15,
   "id": "9462698d",
   "metadata": {},
   "outputs": [
    {
     "data": {
      "text/plain": [
       "'Beginner Â· Professional Certificate Â· 3 - 6 Months'"
      ]
     },
     "execution_count": 15,
     "metadata": {},
     "output_type": "execute_result"
    }
   ],
   "source": [
    "details[0].text"
   ]
  },
  {
   "cell_type": "markdown",
   "id": "7ddceb12",
   "metadata": {},
   "source": [
    "# topics to be covered"
   ]
  },
  {
   "cell_type": "code",
   "execution_count": 16,
   "id": "93cdc9de",
   "metadata": {},
   "outputs": [],
   "source": [
    "skills=soup.find_all('div',class_=\"cds-ProductCard-body\")"
   ]
  },
  {
   "cell_type": "code",
   "execution_count": 17,
   "id": "7c77bfad",
   "metadata": {},
   "outputs": [
    {
     "data": {
      "text/plain": [
       "\"Skills you'll gain: Data Analysis, R Programming, SQL, Spreadsheet Software, Business Analysis, Business Communication, Data Visualization, Data Management, General Statistics, Big Data, Communication, Computer Programming, Data Science, Data Visualization Software, Databases, Exploratory Data Analysis, Extract, Transform, Load, Leadership and Management, Microsoft Excel, Problem Solving, Small Data, Statistical Programming, Tableau Software\""
      ]
     },
     "execution_count": 17,
     "metadata": {},
     "output_type": "execute_result"
    }
   ],
   "source": [
    "skills[0].text"
   ]
  },
  {
   "cell_type": "markdown",
   "id": "973d0585",
   "metadata": {},
   "source": [
    " # Creating dataframe for all the pages\n",
    " "
   ]
  },
  {
   "cell_type": "code",
   "execution_count": 18,
   "id": "a0fc17c4",
   "metadata": {},
   "outputs": [],
   "source": [
    "Course_Details=pd.DataFrame()"
   ]
  },
  {
   "cell_type": "code",
   "execution_count": 19,
   "id": "8e4cc335",
   "metadata": {},
   "outputs": [
    {
     "name": "stderr",
     "output_type": "stream",
     "text": [
      "C:\\Users\\acer\\AppData\\Local\\Temp\\ipykernel_12608\\3758861697.py:36: FutureWarning: The frame.append method is deprecated and will be removed from pandas in a future version. Use pandas.concat instead.\n",
      "  Course_Details=Course_Details.append(df,ignore_index=True)\n"
     ]
    }
   ],
   "source": [
    "for j in range(1,85):\n",
    "        headers = {'User-Agent': 'Mozilla/5.0 (Windows NT 6.3; Win64; x64) AppleWebKit/537.36 (KHTML, like Gecko) Chrome/80.0.3987.162 Safari/537.36'}\n",
    "        url = 'https://www.coursera.org/courses?page={}&sortBy=BEST_MATCH'.format(j)  # Replace this with the actual URL\n",
    "        response = requests.get(url, headers=headers).text\n",
    "        soup=BeautifulSoup(response,'lxml')\n",
    "        course=soup.find_all('div',class_=\"cds-ProductCard-content\")\n",
    "        course_Name=[]\n",
    "        rating=[]\n",
    "        detail=[]\n",
    "        topics=[]\n",
    "        for i in course:\n",
    "\n",
    "            try:\n",
    "               course_Name.append(i.find('h3',class_=\"cds-CommonCard-title css-6ecy9b\").text.strip())\n",
    "            except:\n",
    "               course_Name.append(np.nan)\n",
    "            try:\n",
    "               rating.append(i.find(class_=\"css-2xargn\").text.strip())\n",
    "            except:\n",
    "               rating.append(np.nan)\n",
    "            try:\n",
    "               detail.append(i.find('div',class_=\"cds-CommonCard-metadata\").text.strip())\n",
    "            except:\n",
    "               detail.append(np.nan)\n",
    "            try:\n",
    "               topics.append(i.find('div',class_=\"cds-ProductCard-body\").text.strip())\n",
    "            except:\n",
    "               topics.append(np.nan)\n",
    "            \n",
    "        df = pd.DataFrame({\n",
    "            'Course_Name': course_Name,\n",
    "            'rating': rating,\n",
    "            'details of the course': detail,\n",
    "            'topics covered': topics\n",
    "        })\n",
    "        Course_Details=Course_Details.append(df,ignore_index=True)\n",
    "\n",
    "    "
   ]
  },
  {
   "cell_type": "code",
   "execution_count": 20,
   "id": "2f8e5192",
   "metadata": {},
   "outputs": [
    {
     "data": {
      "text/html": [
       "<div>\n",
       "<style scoped>\n",
       "    .dataframe tbody tr th:only-of-type {\n",
       "        vertical-align: middle;\n",
       "    }\n",
       "\n",
       "    .dataframe tbody tr th {\n",
       "        vertical-align: top;\n",
       "    }\n",
       "\n",
       "    .dataframe thead th {\n",
       "        text-align: right;\n",
       "    }\n",
       "</style>\n",
       "<table border=\"1\" class=\"dataframe\">\n",
       "  <thead>\n",
       "    <tr style=\"text-align: right;\">\n",
       "      <th></th>\n",
       "      <th>Course_Name</th>\n",
       "      <th>rating</th>\n",
       "      <th>details of the course</th>\n",
       "      <th>topics covered</th>\n",
       "    </tr>\n",
       "  </thead>\n",
       "  <tbody>\n",
       "    <tr>\n",
       "      <th>0</th>\n",
       "      <td>Google Data Analytics</td>\n",
       "      <td>4.8</td>\n",
       "      <td>Beginner Â· Professional Certificate Â· 3 - 6 ...</td>\n",
       "      <td>Skills you'll gain: Data Analysis, R Programmi...</td>\n",
       "    </tr>\n",
       "    <tr>\n",
       "      <th>1</th>\n",
       "      <td>Google Cybersecurity</td>\n",
       "      <td>4.8</td>\n",
       "      <td>Beginner Â· Professional Certificate Â· 3 - 6 ...</td>\n",
       "      <td>Skills you'll gain: Network Security, Python P...</td>\n",
       "    </tr>\n",
       "    <tr>\n",
       "      <th>2</th>\n",
       "      <td>Google Project Management:</td>\n",
       "      <td>4.8</td>\n",
       "      <td>Beginner Â· Professional Certificate Â· 3 - 6 ...</td>\n",
       "      <td>Skills you'll gain: Project Management, Strate...</td>\n",
       "    </tr>\n",
       "    <tr>\n",
       "      <th>3</th>\n",
       "      <td>Google Digital Marketing &amp; E-commerce</td>\n",
       "      <td>4.8</td>\n",
       "      <td>Beginner Â· Professional Certificate Â· 3 - 6 ...</td>\n",
       "      <td>Skills you'll gain: Digital Marketing, Marketi...</td>\n",
       "    </tr>\n",
       "    <tr>\n",
       "      <th>4</th>\n",
       "      <td>Google IT Support</td>\n",
       "      <td>4.8</td>\n",
       "      <td>Beginner Â· Professional Certificate Â· 3 - 6 ...</td>\n",
       "      <td>Skills you'll gain: Computer Networking, Netwo...</td>\n",
       "    </tr>\n",
       "    <tr>\n",
       "      <th>...</th>\n",
       "      <td>...</td>\n",
       "      <td>...</td>\n",
       "      <td>...</td>\n",
       "      <td>...</td>\n",
       "    </tr>\n",
       "    <tr>\n",
       "      <th>995</th>\n",
       "      <td>DiseÃ±o y GestiÃ³n de Proyectos de Desarrollo</td>\n",
       "      <td>4.8</td>\n",
       "      <td>Beginner Â· Specialization Â· 3 - 6 Months</td>\n",
       "      <td>Skills you'll gain: Project Management, Planni...</td>\n",
       "    </tr>\n",
       "    <tr>\n",
       "      <th>996</th>\n",
       "      <td>Financing and Investing in Infrastructure</td>\n",
       "      <td>4.8</td>\n",
       "      <td>Mixed Â· Course Â· 1 - 3 Months</td>\n",
       "      <td>Skills you'll gain: Finance, Investment Manage...</td>\n",
       "    </tr>\n",
       "    <tr>\n",
       "      <th>997</th>\n",
       "      <td>Generative AI Essentials: Overview and Impact</td>\n",
       "      <td>4.8</td>\n",
       "      <td>Beginner Â· Course Â· 1 - 4 Weeks</td>\n",
       "      <td>NaN</td>\n",
       "    </tr>\n",
       "    <tr>\n",
       "      <th>998</th>\n",
       "      <td>Whole genome sequencing of bacterial genomes -...</td>\n",
       "      <td>4.6</td>\n",
       "      <td>Beginner Â· Course Â· 1 - 3 Months</td>\n",
       "      <td>Skills you'll gain: Bioinformatics</td>\n",
       "    </tr>\n",
       "    <tr>\n",
       "      <th>999</th>\n",
       "      <td>Developing Your Musicianship</td>\n",
       "      <td>4.8</td>\n",
       "      <td>Beginner Â· Specialization Â· 3 - 6 Months</td>\n",
       "      <td>Skills you'll gain: Training</td>\n",
       "    </tr>\n",
       "  </tbody>\n",
       "</table>\n",
       "<p>1000 rows × 4 columns</p>\n",
       "</div>"
      ],
      "text/plain": [
       "                                           Course_Name rating  \\\n",
       "0                                Google Data Analytics    4.8   \n",
       "1                                 Google Cybersecurity    4.8   \n",
       "2                           Google Project Management:    4.8   \n",
       "3                Google Digital Marketing & E-commerce    4.8   \n",
       "4                                    Google IT Support    4.8   \n",
       "..                                                 ...    ...   \n",
       "995      DiseÃ±o y GestiÃ³n de Proyectos de Desarrollo    4.8   \n",
       "996          Financing and Investing in Infrastructure    4.8   \n",
       "997      Generative AI Essentials: Overview and Impact    4.8   \n",
       "998  Whole genome sequencing of bacterial genomes -...    4.6   \n",
       "999                       Developing Your Musicianship    4.8   \n",
       "\n",
       "                                 details of the course  \\\n",
       "0    Beginner Â· Professional Certificate Â· 3 - 6 ...   \n",
       "1    Beginner Â· Professional Certificate Â· 3 - 6 ...   \n",
       "2    Beginner Â· Professional Certificate Â· 3 - 6 ...   \n",
       "3    Beginner Â· Professional Certificate Â· 3 - 6 ...   \n",
       "4    Beginner Â· Professional Certificate Â· 3 - 6 ...   \n",
       "..                                                 ...   \n",
       "995         Beginner Â· Specialization Â· 3 - 6 Months   \n",
       "996                    Mixed Â· Course Â· 1 - 3 Months   \n",
       "997                  Beginner Â· Course Â· 1 - 4 Weeks   \n",
       "998                 Beginner Â· Course Â· 1 - 3 Months   \n",
       "999         Beginner Â· Specialization Â· 3 - 6 Months   \n",
       "\n",
       "                                        topics covered  \n",
       "0    Skills you'll gain: Data Analysis, R Programmi...  \n",
       "1    Skills you'll gain: Network Security, Python P...  \n",
       "2    Skills you'll gain: Project Management, Strate...  \n",
       "3    Skills you'll gain: Digital Marketing, Marketi...  \n",
       "4    Skills you'll gain: Computer Networking, Netwo...  \n",
       "..                                                 ...  \n",
       "995  Skills you'll gain: Project Management, Planni...  \n",
       "996  Skills you'll gain: Finance, Investment Manage...  \n",
       "997                                                NaN  \n",
       "998                 Skills you'll gain: Bioinformatics  \n",
       "999                       Skills you'll gain: Training  \n",
       "\n",
       "[1000 rows x 4 columns]"
      ]
     },
     "execution_count": 20,
     "metadata": {},
     "output_type": "execute_result"
    }
   ],
   "source": [
    "Course_Details"
   ]
  },
  {
   "cell_type": "code",
   "execution_count": 21,
   "id": "0ffd1859",
   "metadata": {},
   "outputs": [
    {
     "data": {
      "text/html": [
       "<div>\n",
       "<style scoped>\n",
       "    .dataframe tbody tr th:only-of-type {\n",
       "        vertical-align: middle;\n",
       "    }\n",
       "\n",
       "    .dataframe tbody tr th {\n",
       "        vertical-align: top;\n",
       "    }\n",
       "\n",
       "    .dataframe thead th {\n",
       "        text-align: right;\n",
       "    }\n",
       "</style>\n",
       "<table border=\"1\" class=\"dataframe\">\n",
       "  <thead>\n",
       "    <tr style=\"text-align: right;\">\n",
       "      <th></th>\n",
       "      <th>Course_Name</th>\n",
       "      <th>rating</th>\n",
       "      <th>details of the course</th>\n",
       "      <th>topics covered</th>\n",
       "    </tr>\n",
       "  </thead>\n",
       "  <tbody>\n",
       "    <tr>\n",
       "      <th>0</th>\n",
       "      <td>Google Data Analytics</td>\n",
       "      <td>4.8</td>\n",
       "      <td>Beginner Â· Professional Certificate Â· 3 - 6 ...</td>\n",
       "      <td>Skills you'll gain: Data Analysis, R Programmi...</td>\n",
       "    </tr>\n",
       "    <tr>\n",
       "      <th>1</th>\n",
       "      <td>Google Cybersecurity</td>\n",
       "      <td>4.8</td>\n",
       "      <td>Beginner Â· Professional Certificate Â· 3 - 6 ...</td>\n",
       "      <td>Skills you'll gain: Network Security, Python P...</td>\n",
       "    </tr>\n",
       "    <tr>\n",
       "      <th>2</th>\n",
       "      <td>Google Project Management:</td>\n",
       "      <td>4.8</td>\n",
       "      <td>Beginner Â· Professional Certificate Â· 3 - 6 ...</td>\n",
       "      <td>Skills you'll gain: Project Management, Strate...</td>\n",
       "    </tr>\n",
       "    <tr>\n",
       "      <th>3</th>\n",
       "      <td>Google Digital Marketing &amp; E-commerce</td>\n",
       "      <td>4.8</td>\n",
       "      <td>Beginner Â· Professional Certificate Â· 3 - 6 ...</td>\n",
       "      <td>Skills you'll gain: Digital Marketing, Marketi...</td>\n",
       "    </tr>\n",
       "    <tr>\n",
       "      <th>4</th>\n",
       "      <td>Google IT Support</td>\n",
       "      <td>4.8</td>\n",
       "      <td>Beginner Â· Professional Certificate Â· 3 - 6 ...</td>\n",
       "      <td>Skills you'll gain: Computer Networking, Netwo...</td>\n",
       "    </tr>\n",
       "  </tbody>\n",
       "</table>\n",
       "</div>"
      ],
      "text/plain": [
       "                             Course_Name rating  \\\n",
       "0                  Google Data Analytics    4.8   \n",
       "1                   Google Cybersecurity    4.8   \n",
       "2             Google Project Management:    4.8   \n",
       "3  Google Digital Marketing & E-commerce    4.8   \n",
       "4                      Google IT Support    4.8   \n",
       "\n",
       "                               details of the course  \\\n",
       "0  Beginner Â· Professional Certificate Â· 3 - 6 ...   \n",
       "1  Beginner Â· Professional Certificate Â· 3 - 6 ...   \n",
       "2  Beginner Â· Professional Certificate Â· 3 - 6 ...   \n",
       "3  Beginner Â· Professional Certificate Â· 3 - 6 ...   \n",
       "4  Beginner Â· Professional Certificate Â· 3 - 6 ...   \n",
       "\n",
       "                                      topics covered  \n",
       "0  Skills you'll gain: Data Analysis, R Programmi...  \n",
       "1  Skills you'll gain: Network Security, Python P...  \n",
       "2  Skills you'll gain: Project Management, Strate...  \n",
       "3  Skills you'll gain: Digital Marketing, Marketi...  \n",
       "4  Skills you'll gain: Computer Networking, Netwo...  "
      ]
     },
     "execution_count": 21,
     "metadata": {},
     "output_type": "execute_result"
    }
   ],
   "source": [
    "Course_Details.head()"
   ]
  },
  {
   "cell_type": "code",
   "execution_count": 22,
   "id": "ba96ff4b",
   "metadata": {},
   "outputs": [
    {
     "data": {
      "text/plain": [
       "(1000, 4)"
      ]
     },
     "execution_count": 22,
     "metadata": {},
     "output_type": "execute_result"
    }
   ],
   "source": [
    "Course_Details.shape\n"
   ]
  },
  {
   "cell_type": "code",
   "execution_count": 23,
   "id": "9f96b5d4",
   "metadata": {},
   "outputs": [
    {
     "data": {
      "text/plain": [
       "Course_Name                0\n",
       "rating                     3\n",
       "details of the course      0\n",
       "topics covered           115\n",
       "dtype: int64"
      ]
     },
     "execution_count": 23,
     "metadata": {},
     "output_type": "execute_result"
    }
   ],
   "source": [
    "Course_Details.isnull().sum()"
   ]
  },
  {
   "cell_type": "code",
   "execution_count": 24,
   "id": "47503dec",
   "metadata": {},
   "outputs": [
    {
     "data": {
      "text/plain": [
       "'Beginner Â· Professional Certificate Â· 3 - 6 Months'"
      ]
     },
     "execution_count": 24,
     "metadata": {},
     "output_type": "execute_result"
    }
   ],
   "source": [
    "Course_Details['details of the course'][0]"
   ]
  },
  {
   "cell_type": "code",
   "execution_count": 25,
   "id": "61bca0b4",
   "metadata": {
    "scrolled": false
   },
   "outputs": [],
   "source": [
    "Course_Details['details of the course']=Course_Details['details of the course'].apply(lambda x:x.split('Â·'))"
   ]
  },
  {
   "cell_type": "code",
   "execution_count": 26,
   "id": "b1508e22",
   "metadata": {
    "scrolled": true
   },
   "outputs": [
    {
     "data": {
      "text/plain": [
       "'Intermediate '"
      ]
     },
     "execution_count": 26,
     "metadata": {},
     "output_type": "execute_result"
    }
   ],
   "source": [
    "Course_Details['details of the course'][10][0]"
   ]
  },
  {
   "cell_type": "code",
   "execution_count": 27,
   "id": "4447c75f",
   "metadata": {
    "scrolled": true
   },
   "outputs": [
    {
     "data": {
      "text/plain": [
       "1000"
      ]
     },
     "execution_count": 27,
     "metadata": {},
     "output_type": "execute_result"
    }
   ],
   "source": [
    "total_course=len(Course_Details['details of the course'])\n",
    "total_course"
   ]
  },
  {
   "cell_type": "code",
   "execution_count": null,
   "id": "841cc664",
   "metadata": {},
   "outputs": [],
   "source": [
    "a=[]\n",
    "b=[]\n",
    "c=[]\n",
    "for i in range(0,total_course):\n",
    "#     Course_Details['Designed for']=\n",
    "      a.append(Course_Details['details of the course'][i][0])\n",
    "#     Course_Details[['Certification Type']]=\n",
    "      b.append(Course_Details['details of the course'][i][1])\n",
    "#     Course_Details[['Duration']]=\n",
    "      c.append(Course_Details['details of the course'][i][2])\n",
    "# Course_Details['Designed for'] = Course_Details['Designed for'].str.strip()\n",
    "# Course_Details['Certification Type'] = Course_Details['Certification Type'].str.strip()\n",
    "# Course_Details['Duration'] = Course_Details['Duration'].str.strip()"
   ]
  },
  {
   "cell_type": "code",
   "execution_count": 29,
   "id": "080b6ee5",
   "metadata": {},
   "outputs": [],
   "source": [
    "Course_Details['Designed for']=a\n",
    "Course_Details['Certification Type']=b\n",
    "Course_Details['Duration']=c"
   ]
  },
  {
   "cell_type": "code",
   "execution_count": 30,
   "id": "c377e961",
   "metadata": {},
   "outputs": [],
   "source": [
    "Course_Details = Course_Details.drop(columns=['details of the course'])"
   ]
  },
  {
   "cell_type": "code",
   "execution_count": 31,
   "id": "55a31492",
   "metadata": {
    "scrolled": true
   },
   "outputs": [
    {
     "data": {
      "text/html": [
       "<div>\n",
       "<style scoped>\n",
       "    .dataframe tbody tr th:only-of-type {\n",
       "        vertical-align: middle;\n",
       "    }\n",
       "\n",
       "    .dataframe tbody tr th {\n",
       "        vertical-align: top;\n",
       "    }\n",
       "\n",
       "    .dataframe thead th {\n",
       "        text-align: right;\n",
       "    }\n",
       "</style>\n",
       "<table border=\"1\" class=\"dataframe\">\n",
       "  <thead>\n",
       "    <tr style=\"text-align: right;\">\n",
       "      <th></th>\n",
       "      <th>Course_Name</th>\n",
       "      <th>rating</th>\n",
       "      <th>topics covered</th>\n",
       "      <th>Designed for</th>\n",
       "      <th>Certification Type</th>\n",
       "      <th>Duration</th>\n",
       "    </tr>\n",
       "  </thead>\n",
       "  <tbody>\n",
       "    <tr>\n",
       "      <th>0</th>\n",
       "      <td>Google Data Analytics</td>\n",
       "      <td>4.8</td>\n",
       "      <td>Skills you'll gain: Data Analysis, R Programmi...</td>\n",
       "      <td>Beginner</td>\n",
       "      <td>Professional Certificate</td>\n",
       "      <td>3 - 6 Months</td>\n",
       "    </tr>\n",
       "    <tr>\n",
       "      <th>1</th>\n",
       "      <td>Google Cybersecurity</td>\n",
       "      <td>4.8</td>\n",
       "      <td>Skills you'll gain: Network Security, Python P...</td>\n",
       "      <td>Beginner</td>\n",
       "      <td>Professional Certificate</td>\n",
       "      <td>3 - 6 Months</td>\n",
       "    </tr>\n",
       "    <tr>\n",
       "      <th>2</th>\n",
       "      <td>Google Project Management:</td>\n",
       "      <td>4.8</td>\n",
       "      <td>Skills you'll gain: Project Management, Strate...</td>\n",
       "      <td>Beginner</td>\n",
       "      <td>Professional Certificate</td>\n",
       "      <td>3 - 6 Months</td>\n",
       "    </tr>\n",
       "    <tr>\n",
       "      <th>3</th>\n",
       "      <td>Google Digital Marketing &amp; E-commerce</td>\n",
       "      <td>4.8</td>\n",
       "      <td>Skills you'll gain: Digital Marketing, Marketi...</td>\n",
       "      <td>Beginner</td>\n",
       "      <td>Professional Certificate</td>\n",
       "      <td>3 - 6 Months</td>\n",
       "    </tr>\n",
       "    <tr>\n",
       "      <th>4</th>\n",
       "      <td>Google IT Support</td>\n",
       "      <td>4.8</td>\n",
       "      <td>Skills you'll gain: Computer Networking, Netwo...</td>\n",
       "      <td>Beginner</td>\n",
       "      <td>Professional Certificate</td>\n",
       "      <td>3 - 6 Months</td>\n",
       "    </tr>\n",
       "    <tr>\n",
       "      <th>...</th>\n",
       "      <td>...</td>\n",
       "      <td>...</td>\n",
       "      <td>...</td>\n",
       "      <td>...</td>\n",
       "      <td>...</td>\n",
       "      <td>...</td>\n",
       "    </tr>\n",
       "    <tr>\n",
       "      <th>995</th>\n",
       "      <td>DiseÃ±o y GestiÃ³n de Proyectos de Desarrollo</td>\n",
       "      <td>4.8</td>\n",
       "      <td>Skills you'll gain: Project Management, Planni...</td>\n",
       "      <td>Beginner</td>\n",
       "      <td>Specialization</td>\n",
       "      <td>3 - 6 Months</td>\n",
       "    </tr>\n",
       "    <tr>\n",
       "      <th>996</th>\n",
       "      <td>Financing and Investing in Infrastructure</td>\n",
       "      <td>4.8</td>\n",
       "      <td>Skills you'll gain: Finance, Investment Manage...</td>\n",
       "      <td>Mixed</td>\n",
       "      <td>Course</td>\n",
       "      <td>1 - 3 Months</td>\n",
       "    </tr>\n",
       "    <tr>\n",
       "      <th>997</th>\n",
       "      <td>Generative AI Essentials: Overview and Impact</td>\n",
       "      <td>4.8</td>\n",
       "      <td>NaN</td>\n",
       "      <td>Beginner</td>\n",
       "      <td>Course</td>\n",
       "      <td>1 - 4 Weeks</td>\n",
       "    </tr>\n",
       "    <tr>\n",
       "      <th>998</th>\n",
       "      <td>Whole genome sequencing of bacterial genomes -...</td>\n",
       "      <td>4.6</td>\n",
       "      <td>Skills you'll gain: Bioinformatics</td>\n",
       "      <td>Beginner</td>\n",
       "      <td>Course</td>\n",
       "      <td>1 - 3 Months</td>\n",
       "    </tr>\n",
       "    <tr>\n",
       "      <th>999</th>\n",
       "      <td>Developing Your Musicianship</td>\n",
       "      <td>4.8</td>\n",
       "      <td>Skills you'll gain: Training</td>\n",
       "      <td>Beginner</td>\n",
       "      <td>Specialization</td>\n",
       "      <td>3 - 6 Months</td>\n",
       "    </tr>\n",
       "  </tbody>\n",
       "</table>\n",
       "<p>1000 rows × 6 columns</p>\n",
       "</div>"
      ],
      "text/plain": [
       "                                           Course_Name rating  \\\n",
       "0                                Google Data Analytics    4.8   \n",
       "1                                 Google Cybersecurity    4.8   \n",
       "2                           Google Project Management:    4.8   \n",
       "3                Google Digital Marketing & E-commerce    4.8   \n",
       "4                                    Google IT Support    4.8   \n",
       "..                                                 ...    ...   \n",
       "995      DiseÃ±o y GestiÃ³n de Proyectos de Desarrollo    4.8   \n",
       "996          Financing and Investing in Infrastructure    4.8   \n",
       "997      Generative AI Essentials: Overview and Impact    4.8   \n",
       "998  Whole genome sequencing of bacterial genomes -...    4.6   \n",
       "999                       Developing Your Musicianship    4.8   \n",
       "\n",
       "                                        topics covered Designed for  \\\n",
       "0    Skills you'll gain: Data Analysis, R Programmi...    Beginner    \n",
       "1    Skills you'll gain: Network Security, Python P...    Beginner    \n",
       "2    Skills you'll gain: Project Management, Strate...    Beginner    \n",
       "3    Skills you'll gain: Digital Marketing, Marketi...    Beginner    \n",
       "4    Skills you'll gain: Computer Networking, Netwo...    Beginner    \n",
       "..                                                 ...          ...   \n",
       "995  Skills you'll gain: Project Management, Planni...    Beginner    \n",
       "996  Skills you'll gain: Finance, Investment Manage...       Mixed    \n",
       "997                                                NaN    Beginner    \n",
       "998                 Skills you'll gain: Bioinformatics    Beginner    \n",
       "999                       Skills you'll gain: Training    Beginner    \n",
       "\n",
       "             Certification Type       Duration  \n",
       "0     Professional Certificate    3 - 6 Months  \n",
       "1     Professional Certificate    3 - 6 Months  \n",
       "2     Professional Certificate    3 - 6 Months  \n",
       "3     Professional Certificate    3 - 6 Months  \n",
       "4     Professional Certificate    3 - 6 Months  \n",
       "..                          ...            ...  \n",
       "995             Specialization    3 - 6 Months  \n",
       "996                     Course    1 - 3 Months  \n",
       "997                     Course     1 - 4 Weeks  \n",
       "998                     Course    1 - 3 Months  \n",
       "999             Specialization    3 - 6 Months  \n",
       "\n",
       "[1000 rows x 6 columns]"
      ]
     },
     "execution_count": 31,
     "metadata": {},
     "output_type": "execute_result"
    }
   ],
   "source": [
    "Course_Details"
   ]
  },
  {
   "cell_type": "code",
   "execution_count": null,
   "id": "55155715",
   "metadata": {},
   "outputs": [],
   "source": [
    "\n"
   ]
  },
  {
   "cell_type": "code",
   "execution_count": 32,
   "id": "45aa654e",
   "metadata": {
    "scrolled": true
   },
   "outputs": [
    {
     "data": {
      "text/plain": [
       "0      Skills you'll gain: Data Analysis, R Programmi...\n",
       "1      Skills you'll gain: Network Security, Python P...\n",
       "2      Skills you'll gain: Project Management, Strate...\n",
       "3      Skills you'll gain: Digital Marketing, Marketi...\n",
       "4      Skills you'll gain: Computer Networking, Netwo...\n",
       "                             ...                        \n",
       "995    Skills you'll gain: Project Management, Planni...\n",
       "996    Skills you'll gain: Finance, Investment Manage...\n",
       "997                                                  NaN\n",
       "998                   Skills you'll gain: Bioinformatics\n",
       "999                         Skills you'll gain: Training\n",
       "Name: topics covered, Length: 1000, dtype: object"
      ]
     },
     "execution_count": 32,
     "metadata": {},
     "output_type": "execute_result"
    }
   ],
   "source": [
    "Course_Details['topics covered']"
   ]
  },
  {
   "cell_type": "code",
   "execution_count": 33,
   "id": "bf361b54",
   "metadata": {},
   "outputs": [
    {
     "data": {
      "text/plain": [
       "\"Skills you'll gain: Data Analysis, R Programming, SQL, Spreadsheet Software, Business Analysis, Business Communication, Data Visualization, Data Management, General Statistics, Big Data, Communication, Computer Programming, Data Science, Data Visualization Software, Databases, Exploratory Data Analysis, Extract, Transform, Load, Leadership and Management, Microsoft Excel, Problem Solving, Small Data, Statistical Programming, Tableau Software\""
      ]
     },
     "execution_count": 33,
     "metadata": {},
     "output_type": "execute_result"
    }
   ],
   "source": [
    "Course_Details['topics covered'][0]"
   ]
  },
  {
   "cell_type": "code",
   "execution_count": 34,
   "id": "384b74a4",
   "metadata": {
    "scrolled": true
   },
   "outputs": [
    {
     "data": {
      "text/plain": [
       "0      [ Data Analysis, R Programming, SQL, Spreadshe...\n",
       "1      [ Network Security, Python Programming, Linux,...\n",
       "2      [ Project Management, Strategy and Operations,...\n",
       "3      [ Digital Marketing, Marketing, Marketing Mana...\n",
       "4      [ Computer Networking, Network Architecture, N...\n",
       "                             ...                        \n",
       "995    [ Project Management, Planning, Organizational...\n",
       "996    [ Finance, Investment Management, Leadership a...\n",
       "997                                                   []\n",
       "998                                    [ Bioinformatics]\n",
       "999                                          [ Training]\n",
       "Name: topics covered, Length: 1000, dtype: object"
      ]
     },
     "execution_count": 34,
     "metadata": {},
     "output_type": "execute_result"
    }
   ],
   "source": [
    "a=Course_Details['topics covered'].apply(lambda x: x.split(':')[1:]if isinstance(x, str) else [])\n",
    "a"
   ]
  },
  {
   "cell_type": "code",
   "execution_count": 35,
   "id": "d15ec424",
   "metadata": {},
   "outputs": [],
   "source": [
    "Course_Details['topics covered']=a"
   ]
  },
  {
   "cell_type": "code",
   "execution_count": 36,
   "id": "4ab85f0e",
   "metadata": {},
   "outputs": [
    {
     "data": {
      "text/plain": [
       "0      [ Data Analysis, R Programming, SQL, Spreadshe...\n",
       "1      [ Network Security, Python Programming, Linux,...\n",
       "2      [ Project Management, Strategy and Operations,...\n",
       "3      [ Digital Marketing, Marketing, Marketing Mana...\n",
       "4      [ Computer Networking, Network Architecture, N...\n",
       "                             ...                        \n",
       "995    [ Project Management, Planning, Organizational...\n",
       "996    [ Finance, Investment Management, Leadership a...\n",
       "997                                                   []\n",
       "998                                    [ Bioinformatics]\n",
       "999                                          [ Training]\n",
       "Name: topics covered, Length: 1000, dtype: object"
      ]
     },
     "execution_count": 36,
     "metadata": {},
     "output_type": "execute_result"
    }
   ],
   "source": [
    "Course_Details['topics covered']"
   ]
  },
  {
   "cell_type": "code",
   "execution_count": null,
   "id": "425a23b3",
   "metadata": {},
   "outputs": [],
   "source": []
  },
  {
   "cell_type": "code",
   "execution_count": 37,
   "id": "e6348d69",
   "metadata": {},
   "outputs": [
    {
     "data": {
      "text/html": [
       "<div>\n",
       "<style scoped>\n",
       "    .dataframe tbody tr th:only-of-type {\n",
       "        vertical-align: middle;\n",
       "    }\n",
       "\n",
       "    .dataframe tbody tr th {\n",
       "        vertical-align: top;\n",
       "    }\n",
       "\n",
       "    .dataframe thead th {\n",
       "        text-align: right;\n",
       "    }\n",
       "</style>\n",
       "<table border=\"1\" class=\"dataframe\">\n",
       "  <thead>\n",
       "    <tr style=\"text-align: right;\">\n",
       "      <th></th>\n",
       "      <th>Course_Name</th>\n",
       "      <th>rating</th>\n",
       "      <th>topics covered</th>\n",
       "      <th>Designed for</th>\n",
       "      <th>Certification Type</th>\n",
       "      <th>Duration</th>\n",
       "    </tr>\n",
       "  </thead>\n",
       "  <tbody>\n",
       "    <tr>\n",
       "      <th>0</th>\n",
       "      <td>Google Data Analytics</td>\n",
       "      <td>4.8</td>\n",
       "      <td>[ Data Analysis, R Programming, SQL, Spreadshe...</td>\n",
       "      <td>Beginner</td>\n",
       "      <td>Professional Certificate</td>\n",
       "      <td>3 - 6 Months</td>\n",
       "    </tr>\n",
       "    <tr>\n",
       "      <th>1</th>\n",
       "      <td>Google Cybersecurity</td>\n",
       "      <td>4.8</td>\n",
       "      <td>[ Network Security, Python Programming, Linux,...</td>\n",
       "      <td>Beginner</td>\n",
       "      <td>Professional Certificate</td>\n",
       "      <td>3 - 6 Months</td>\n",
       "    </tr>\n",
       "    <tr>\n",
       "      <th>2</th>\n",
       "      <td>Google Project Management:</td>\n",
       "      <td>4.8</td>\n",
       "      <td>[ Project Management, Strategy and Operations,...</td>\n",
       "      <td>Beginner</td>\n",
       "      <td>Professional Certificate</td>\n",
       "      <td>3 - 6 Months</td>\n",
       "    </tr>\n",
       "    <tr>\n",
       "      <th>3</th>\n",
       "      <td>Google Digital Marketing &amp; E-commerce</td>\n",
       "      <td>4.8</td>\n",
       "      <td>[ Digital Marketing, Marketing, Marketing Mana...</td>\n",
       "      <td>Beginner</td>\n",
       "      <td>Professional Certificate</td>\n",
       "      <td>3 - 6 Months</td>\n",
       "    </tr>\n",
       "    <tr>\n",
       "      <th>4</th>\n",
       "      <td>Google IT Support</td>\n",
       "      <td>4.8</td>\n",
       "      <td>[ Computer Networking, Network Architecture, N...</td>\n",
       "      <td>Beginner</td>\n",
       "      <td>Professional Certificate</td>\n",
       "      <td>3 - 6 Months</td>\n",
       "    </tr>\n",
       "    <tr>\n",
       "      <th>...</th>\n",
       "      <td>...</td>\n",
       "      <td>...</td>\n",
       "      <td>...</td>\n",
       "      <td>...</td>\n",
       "      <td>...</td>\n",
       "      <td>...</td>\n",
       "    </tr>\n",
       "    <tr>\n",
       "      <th>995</th>\n",
       "      <td>DiseÃ±o y GestiÃ³n de Proyectos de Desarrollo</td>\n",
       "      <td>4.8</td>\n",
       "      <td>[ Project Management, Planning, Organizational...</td>\n",
       "      <td>Beginner</td>\n",
       "      <td>Specialization</td>\n",
       "      <td>3 - 6 Months</td>\n",
       "    </tr>\n",
       "    <tr>\n",
       "      <th>996</th>\n",
       "      <td>Financing and Investing in Infrastructure</td>\n",
       "      <td>4.8</td>\n",
       "      <td>[ Finance, Investment Management, Leadership a...</td>\n",
       "      <td>Mixed</td>\n",
       "      <td>Course</td>\n",
       "      <td>1 - 3 Months</td>\n",
       "    </tr>\n",
       "    <tr>\n",
       "      <th>997</th>\n",
       "      <td>Generative AI Essentials: Overview and Impact</td>\n",
       "      <td>4.8</td>\n",
       "      <td>[]</td>\n",
       "      <td>Beginner</td>\n",
       "      <td>Course</td>\n",
       "      <td>1 - 4 Weeks</td>\n",
       "    </tr>\n",
       "    <tr>\n",
       "      <th>998</th>\n",
       "      <td>Whole genome sequencing of bacterial genomes -...</td>\n",
       "      <td>4.6</td>\n",
       "      <td>[ Bioinformatics]</td>\n",
       "      <td>Beginner</td>\n",
       "      <td>Course</td>\n",
       "      <td>1 - 3 Months</td>\n",
       "    </tr>\n",
       "    <tr>\n",
       "      <th>999</th>\n",
       "      <td>Developing Your Musicianship</td>\n",
       "      <td>4.8</td>\n",
       "      <td>[ Training]</td>\n",
       "      <td>Beginner</td>\n",
       "      <td>Specialization</td>\n",
       "      <td>3 - 6 Months</td>\n",
       "    </tr>\n",
       "  </tbody>\n",
       "</table>\n",
       "<p>1000 rows × 6 columns</p>\n",
       "</div>"
      ],
      "text/plain": [
       "                                           Course_Name rating  \\\n",
       "0                                Google Data Analytics    4.8   \n",
       "1                                 Google Cybersecurity    4.8   \n",
       "2                           Google Project Management:    4.8   \n",
       "3                Google Digital Marketing & E-commerce    4.8   \n",
       "4                                    Google IT Support    4.8   \n",
       "..                                                 ...    ...   \n",
       "995      DiseÃ±o y GestiÃ³n de Proyectos de Desarrollo    4.8   \n",
       "996          Financing and Investing in Infrastructure    4.8   \n",
       "997      Generative AI Essentials: Overview and Impact    4.8   \n",
       "998  Whole genome sequencing of bacterial genomes -...    4.6   \n",
       "999                       Developing Your Musicianship    4.8   \n",
       "\n",
       "                                        topics covered Designed for  \\\n",
       "0    [ Data Analysis, R Programming, SQL, Spreadshe...    Beginner    \n",
       "1    [ Network Security, Python Programming, Linux,...    Beginner    \n",
       "2    [ Project Management, Strategy and Operations,...    Beginner    \n",
       "3    [ Digital Marketing, Marketing, Marketing Mana...    Beginner    \n",
       "4    [ Computer Networking, Network Architecture, N...    Beginner    \n",
       "..                                                 ...          ...   \n",
       "995  [ Project Management, Planning, Organizational...    Beginner    \n",
       "996  [ Finance, Investment Management, Leadership a...       Mixed    \n",
       "997                                                 []    Beginner    \n",
       "998                                  [ Bioinformatics]    Beginner    \n",
       "999                                        [ Training]    Beginner    \n",
       "\n",
       "             Certification Type       Duration  \n",
       "0     Professional Certificate    3 - 6 Months  \n",
       "1     Professional Certificate    3 - 6 Months  \n",
       "2     Professional Certificate    3 - 6 Months  \n",
       "3     Professional Certificate    3 - 6 Months  \n",
       "4     Professional Certificate    3 - 6 Months  \n",
       "..                          ...            ...  \n",
       "995             Specialization    3 - 6 Months  \n",
       "996                     Course    1 - 3 Months  \n",
       "997                     Course     1 - 4 Weeks  \n",
       "998                     Course    1 - 3 Months  \n",
       "999             Specialization    3 - 6 Months  \n",
       "\n",
       "[1000 rows x 6 columns]"
      ]
     },
     "execution_count": 37,
     "metadata": {},
     "output_type": "execute_result"
    }
   ],
   "source": [
    "Course_Details"
   ]
  },
  {
   "cell_type": "code",
   "execution_count": 38,
   "id": "5c7269c4",
   "metadata": {},
   "outputs": [],
   "source": [
    "Course_Details.to_csv('Coursera-Best Courses.csv', index=False)"
   ]
  },
  {
   "cell_type": "code",
   "execution_count": 39,
   "id": "ea680341",
   "metadata": {},
   "outputs": [
    {
     "data": {
      "text/plain": [
       "Course_Name                                               Deep Learning\n",
       "rating                                                              4.8\n",
       "topics covered        [ Machine Learning, Deep Learning, Artificial ...\n",
       "Designed for                                              Intermediate \n",
       "Certification Type                                      Specialization \n",
       "Duration                                                   3 - 6 Months\n",
       "Name: 10, dtype: object"
      ]
     },
     "execution_count": 39,
     "metadata": {},
     "output_type": "execute_result"
    }
   ],
   "source": [
    "Course_Details.iloc[10]"
   ]
  },
  {
   "cell_type": "code",
   "execution_count": null,
   "id": "d45dd4f3",
   "metadata": {},
   "outputs": [],
   "source": []
  },
  {
   "cell_type": "code",
   "execution_count": null,
   "id": "31426f7e",
   "metadata": {},
   "outputs": [],
   "source": []
  },
  {
   "cell_type": "code",
   "execution_count": null,
   "id": "149a0faf",
   "metadata": {},
   "outputs": [],
   "source": []
  }
 ],
 "metadata": {
  "kernelspec": {
   "display_name": "Python 3 (ipykernel)",
   "language": "python",
   "name": "python3"
  },
  "language_info": {
   "codemirror_mode": {
    "name": "ipython",
    "version": 3
   },
   "file_extension": ".py",
   "mimetype": "text/x-python",
   "name": "python",
   "nbconvert_exporter": "python",
   "pygments_lexer": "ipython3",
   "version": "3.9.12"
  }
 },
 "nbformat": 4,
 "nbformat_minor": 5
}
